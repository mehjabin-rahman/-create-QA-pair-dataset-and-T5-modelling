{
 "cells": [
  {
   "cell_type": "code",
   "execution_count": 1,
   "id": "dbc7557f",
   "metadata": {},
   "outputs": [
    {
     "name": "stdout",
     "output_type": "stream",
     "text": [
      "                                                      0\n",
      "0                                         FIRE  & BLOOD\n",
      "2                                   GEORGE R. R. MARTIN\n",
      "25                                                  -�\\\n",
      "26                                       Banta1n Boc)ks\n",
      "27                                             New York\n",
      "...                                                 ...\n",
      "4368                             \\nPenguin Ranaom House\n",
      "4370                  What’s next on your reading list?\n",
      "4371                     Discover your next great read!\n",
      "4374  Get personalized book picks and up-to-date new...\n",
      "4375                                       Sign up now.\n",
      "\n",
      "[3186 rows x 1 columns]\n"
     ]
    }
   ],
   "source": [
    "import pandas as pd\n",
    "\n",
    "# Read the CSV file into a pandas DataFrame\n",
    "df = pd.read_csv('paragraphs.csv')\n",
    "\n",
    "# Drop empty rows from the DataFrame\n",
    "df = df.dropna()\n",
    "\n",
    "# Print the resulting DataFrame\n",
    "print(df)"
   ]
  },
  {
   "cell_type": "code",
   "execution_count": 2,
   "id": "02b62122",
   "metadata": {},
   "outputs": [
    {
     "data": {
      "text/html": [
       "<div>\n",
       "<style scoped>\n",
       "    .dataframe tbody tr th:only-of-type {\n",
       "        vertical-align: middle;\n",
       "    }\n",
       "\n",
       "    .dataframe tbody tr th {\n",
       "        vertical-align: top;\n",
       "    }\n",
       "\n",
       "    .dataframe thead th {\n",
       "        text-align: right;\n",
       "    }\n",
       "</style>\n",
       "<table border=\"1\" class=\"dataframe\">\n",
       "  <thead>\n",
       "    <tr style=\"text-align: right;\">\n",
       "      <th></th>\n",
       "      <th>text</th>\n",
       "    </tr>\n",
       "  </thead>\n",
       "  <tbody>\n",
       "    <tr>\n",
       "      <th>560</th>\n",
       "      <td>Maegor Targaryen and Tyanna of the Tower were ...</td>\n",
       "    </tr>\n",
       "    <tr>\n",
       "      <th>3793</th>\n",
       "      <td>Gedmund Great-Axe (who had been so seasick dur...</td>\n",
       "    </tr>\n",
       "    <tr>\n",
       "      <th>1561</th>\n",
       "      <td>“I thought that was the most hideous thing tha...</td>\n",
       "    </tr>\n",
       "    <tr>\n",
       "      <th>2381</th>\n",
       "      <td>After the loss of his fingers, Viserys I never...</td>\n",
       "    </tr>\n",
       "    <tr>\n",
       "      <th>3412</th>\n",
       "      <td>The two armies came together two days from the...</td>\n",
       "    </tr>\n",
       "  </tbody>\n",
       "</table>\n",
       "</div>"
      ],
      "text/plain": [
       "                                                   text\n",
       "560   Maegor Targaryen and Tyanna of the Tower were ...\n",
       "3793  Gedmund Great-Axe (who had been so seasick dur...\n",
       "1561  “I thought that was the most hideous thing tha...\n",
       "2381  After the loss of his fingers, Viserys I never...\n",
       "3412  The two armies came together two days from the..."
      ]
     },
     "execution_count": 2,
     "metadata": {},
     "output_type": "execute_result"
    }
   ],
   "source": [
    "df = df.rename(columns={'0': 'text'})\n",
    "df.sample(5)"
   ]
  },
  {
   "cell_type": "code",
   "execution_count": 3,
   "id": "2077cbf6",
   "metadata": {},
   "outputs": [
    {
     "name": "stderr",
     "output_type": "stream",
     "text": [
      "C:\\Users\\Lenovo\\AppData\\Local\\Temp\\ipykernel_18152\\915878072.py:8: FutureWarning: The default value of regex will change from True to False in a future version.\n",
      "  df['clean'] = df['text'].str.replace(url_regex, '')\n",
      "C:\\Users\\Lenovo\\AppData\\Local\\Temp\\ipykernel_18152\\915878072.py:9: FutureWarning: The default value of regex will change from True to False in a future version.\n",
      "  df['clean_tex'] = df['clean'].str.replace(symbol_regex, '')\n"
     ]
    }
   ],
   "source": [
    "# Define a regular expression to match URLs\n",
    "url_regex = r'http[s]?://(?:[a-zA-Z]|[0-9]|[$-_@.&+]|[!*\\(\\),]|(?:%[0-9a-fA-F][0-9a-fA-F]))+'\n",
    "\n",
    "# Define a regular expression to match symbols\n",
    "symbol_regex = r'[^a-zA-Z0-9\\s]'\n",
    "\n",
    "# Remove URLs and symbols from the \"text\" column\n",
    "df['clean'] = df['text'].str.replace(url_regex, '')\n",
    "df['clean_tex'] = df['clean'].str.replace(symbol_regex, '')"
   ]
  },
  {
   "cell_type": "code",
   "execution_count": 4,
   "id": "2683979d",
   "metadata": {},
   "outputs": [
    {
     "data": {
      "text/html": [
       "<div>\n",
       "<style scoped>\n",
       "    .dataframe tbody tr th:only-of-type {\n",
       "        vertical-align: middle;\n",
       "    }\n",
       "\n",
       "    .dataframe tbody tr th {\n",
       "        vertical-align: top;\n",
       "    }\n",
       "\n",
       "    .dataframe thead th {\n",
       "        text-align: right;\n",
       "    }\n",
       "</style>\n",
       "<table border=\"1\" class=\"dataframe\">\n",
       "  <thead>\n",
       "    <tr style=\"text-align: right;\">\n",
       "      <th></th>\n",
       "      <th>text</th>\n",
       "      <th>clean</th>\n",
       "      <th>clean_tex</th>\n",
       "    </tr>\n",
       "  </thead>\n",
       "  <tbody>\n",
       "    <tr>\n",
       "      <th>0</th>\n",
       "      <td>FIRE  &amp; BLOOD</td>\n",
       "      <td>FIRE  &amp; BLOOD</td>\n",
       "      <td>FIRE   BLOOD</td>\n",
       "    </tr>\n",
       "    <tr>\n",
       "      <th>2</th>\n",
       "      <td>GEORGE R. R. MARTIN</td>\n",
       "      <td>GEORGE R. R. MARTIN</td>\n",
       "      <td>GEORGE R R MARTIN</td>\n",
       "    </tr>\n",
       "    <tr>\n",
       "      <th>25</th>\n",
       "      <td>-�\\</td>\n",
       "      <td>-�\\</td>\n",
       "      <td></td>\n",
       "    </tr>\n",
       "    <tr>\n",
       "      <th>26</th>\n",
       "      <td>Banta1n Boc)ks</td>\n",
       "      <td>Banta1n Boc)ks</td>\n",
       "      <td>Banta1n Bocks</td>\n",
       "    </tr>\n",
       "    <tr>\n",
       "      <th>27</th>\n",
       "      <td>New York</td>\n",
       "      <td>New York</td>\n",
       "      <td>New York</td>\n",
       "    </tr>\n",
       "    <tr>\n",
       "      <th>...</th>\n",
       "      <td>...</td>\n",
       "      <td>...</td>\n",
       "      <td>...</td>\n",
       "    </tr>\n",
       "    <tr>\n",
       "      <th>4368</th>\n",
       "      <td>\\nPenguin Ranaom House</td>\n",
       "      <td>\\nPenguin Ranaom House</td>\n",
       "      <td>\\nPenguin Ranaom House</td>\n",
       "    </tr>\n",
       "    <tr>\n",
       "      <th>4370</th>\n",
       "      <td>What’s next on your reading list?</td>\n",
       "      <td>What’s next on your reading list?</td>\n",
       "      <td>Whats next on your reading list</td>\n",
       "    </tr>\n",
       "    <tr>\n",
       "      <th>4371</th>\n",
       "      <td>Discover your next great read!</td>\n",
       "      <td>Discover your next great read!</td>\n",
       "      <td>Discover your next great read</td>\n",
       "    </tr>\n",
       "    <tr>\n",
       "      <th>4374</th>\n",
       "      <td>Get personalized book picks and up-to-date new...</td>\n",
       "      <td>Get personalized book picks and up-to-date new...</td>\n",
       "      <td>Get personalized book picks and uptodate news ...</td>\n",
       "    </tr>\n",
       "    <tr>\n",
       "      <th>4375</th>\n",
       "      <td>Sign up now.</td>\n",
       "      <td>Sign up now.</td>\n",
       "      <td>Sign up now</td>\n",
       "    </tr>\n",
       "  </tbody>\n",
       "</table>\n",
       "<p>3186 rows × 3 columns</p>\n",
       "</div>"
      ],
      "text/plain": [
       "                                                   text  \\\n",
       "0                                         FIRE  & BLOOD   \n",
       "2                                   GEORGE R. R. MARTIN   \n",
       "25                                                  -�\\   \n",
       "26                                       Banta1n Boc)ks   \n",
       "27                                             New York   \n",
       "...                                                 ...   \n",
       "4368                             \\nPenguin Ranaom House   \n",
       "4370                  What’s next on your reading list?   \n",
       "4371                     Discover your next great read!   \n",
       "4374  Get personalized book picks and up-to-date new...   \n",
       "4375                                       Sign up now.   \n",
       "\n",
       "                                                  clean  \\\n",
       "0                                         FIRE  & BLOOD   \n",
       "2                                   GEORGE R. R. MARTIN   \n",
       "25                                                  -�\\   \n",
       "26                                       Banta1n Boc)ks   \n",
       "27                                             New York   \n",
       "...                                                 ...   \n",
       "4368                             \\nPenguin Ranaom House   \n",
       "4370                  What’s next on your reading list?   \n",
       "4371                     Discover your next great read!   \n",
       "4374  Get personalized book picks and up-to-date new...   \n",
       "4375                                       Sign up now.   \n",
       "\n",
       "                                              clean_tex  \n",
       "0                                          FIRE   BLOOD  \n",
       "2                                     GEORGE R R MARTIN  \n",
       "25                                                       \n",
       "26                                        Banta1n Bocks  \n",
       "27                                             New York  \n",
       "...                                                 ...  \n",
       "4368                             \\nPenguin Ranaom House  \n",
       "4370                    Whats next on your reading list  \n",
       "4371                      Discover your next great read  \n",
       "4374  Get personalized book picks and uptodate news ...  \n",
       "4375                                        Sign up now  \n",
       "\n",
       "[3186 rows x 3 columns]"
      ]
     },
     "execution_count": 4,
     "metadata": {},
     "output_type": "execute_result"
    }
   ],
   "source": [
    "df"
   ]
  },
  {
   "cell_type": "code",
   "execution_count": 5,
   "id": "39e28d27",
   "metadata": {},
   "outputs": [],
   "source": [
    "import nltk\n",
    "\n",
    "from nltk.corpus import PlaintextCorpusReader\n",
    "\n",
    "from nltk.tokenize import sent_tokenize\n",
    "\n"
   ]
  },
  {
   "cell_type": "code",
   "execution_count": 6,
   "id": "a9d1c9c0",
   "metadata": {},
   "outputs": [],
   "source": [
    "relations = []\n",
    "\n",
    "for text in df['clean_tex']:\n",
    "\n",
    "    sentences = sent_tokenize(text)\n",
    "\n",
    "    for sentence in sentences:\n",
    "\n",
    "        # Identify named entities using the pre-trained machine learning model\n",
    "\n",
    "        ne_tree = nltk.ne_chunk(nltk.pos_tag(nltk.word_tokenize(sentence)))\n",
    "\n",
    "\n",
    "\n",
    "        # Extract entity relations\n",
    "\n",
    "        for subtree in ne_tree.subtrees():\n",
    "\n",
    "            if subtree.label() in ['ORGANIZATION', 'PERSON', 'GPE']:\n",
    "\n",
    "                entities = [leaf[0] for leaf in subtree.leaves()]\n",
    "\n",
    "                if len(entities) > 1:\n",
    "\n",
    "                    # Get the label of the subtree\n",
    "\n",
    "                    label = subtree.label()\n",
    "\n",
    "                    relations.append((text, label, tuple(entities)))"
   ]
  },
  {
   "cell_type": "code",
   "execution_count": 8,
   "id": "bae96f95",
   "metadata": {},
   "outputs": [
    {
     "name": "stdout",
     "output_type": "stream",
     "text": [
      "                                                      0             1  \\\n",
      "0                                         Banta1n Bocks  ORGANIZATION   \n",
      "1                                              New York           GPE   \n",
      "2     Copyright  2018 by George R R Martin Illustrat...        PERSON   \n",
      "3     Copyright  2018 by George R R Martin Illustrat...        PERSON   \n",
      "4     Copyright  2018 by George R R Martin Illustrat...        PERSON   \n",
      "...                                                 ...           ...   \n",
      "7736  DOUG WHEATLEY is a comic book artist concept d...        PERSON   \n",
      "7737  DOUG WHEATLEY is a comic book artist concept d...  ORGANIZATION   \n",
      "7738  DOUG WHEATLEY is a comic book artist concept d...        PERSON   \n",
      "7739  DOUG WHEATLEY is a comic book artist concept d...  ORGANIZATION   \n",
      "7740                             \\nPenguin Ranaom House        PERSON   \n",
      "\n",
      "                             2  \n",
      "0             (Banta1n, Bocks)  \n",
      "1                  (New, York)  \n",
      "2                  (George, R)  \n",
      "3      (Martin, Illustrations)  \n",
      "4     (Penguin, Random, House)  \n",
      "...                        ...  \n",
      "7736      (Star, Wars, Aliens)  \n",
      "7737        (Incredible, Hulk)  \n",
      "7738     (Star, Wars, Episode)  \n",
      "7739               (Ice, Fire)  \n",
      "7740           (Ranaom, House)  \n",
      "\n",
      "[7741 rows x 3 columns]\n"
     ]
    }
   ],
   "source": [
    "# Convert the relations list to a DataFrame\n",
    "relations_df = pd.DataFrame(relations)\n",
    "\n",
    "# Print the resulting DataFrame\n",
    "print(relations_df)\n"
   ]
  },
  {
   "cell_type": "code",
   "execution_count": 9,
   "id": "c1efd2fb",
   "metadata": {},
   "outputs": [
    {
     "data": {
      "text/html": [
       "<div>\n",
       "<style scoped>\n",
       "    .dataframe tbody tr th:only-of-type {\n",
       "        vertical-align: middle;\n",
       "    }\n",
       "\n",
       "    .dataframe tbody tr th {\n",
       "        vertical-align: top;\n",
       "    }\n",
       "\n",
       "    .dataframe thead th {\n",
       "        text-align: right;\n",
       "    }\n",
       "</style>\n",
       "<table border=\"1\" class=\"dataframe\">\n",
       "  <thead>\n",
       "    <tr style=\"text-align: right;\">\n",
       "      <th></th>\n",
       "      <th>0</th>\n",
       "      <th>1</th>\n",
       "      <th>2</th>\n",
       "    </tr>\n",
       "  </thead>\n",
       "  <tbody>\n",
       "    <tr>\n",
       "      <th>7076</th>\n",
       "      <td>In this as in the matter of Aegons betrothal t...</td>\n",
       "      <td>PERSON</td>\n",
       "      <td>(Lady, Baela)</td>\n",
       "    </tr>\n",
       "    <tr>\n",
       "      <th>3815</th>\n",
       "      <td>The cruelty of children is known to all Prince...</td>\n",
       "      <td>ORGANIZATION</td>\n",
       "      <td>(Princess, Helaena)</td>\n",
       "    </tr>\n",
       "    <tr>\n",
       "      <th>1195</th>\n",
       "      <td>The royal clemency did not extend to all Maego...</td>\n",
       "      <td>PERSON</td>\n",
       "      <td>(Her, Grace)</td>\n",
       "    </tr>\n",
       "    <tr>\n",
       "      <th>3991</th>\n",
       "      <td>Lord Larys Strong master of whisperers then sp...</td>\n",
       "      <td>PERSON</td>\n",
       "      <td>(Larys, Strong)</td>\n",
       "    </tr>\n",
       "    <tr>\n",
       "      <th>280</th>\n",
       "      <td>In the Bite the lords of the Three Sisters had...</td>\n",
       "      <td>PERSON</td>\n",
       "      <td>(Queen, Visenya)</td>\n",
       "    </tr>\n",
       "  </tbody>\n",
       "</table>\n",
       "</div>"
      ],
      "text/plain": [
       "                                                      0             1  \\\n",
       "7076  In this as in the matter of Aegons betrothal t...        PERSON   \n",
       "3815  The cruelty of children is known to all Prince...  ORGANIZATION   \n",
       "1195  The royal clemency did not extend to all Maego...        PERSON   \n",
       "3991  Lord Larys Strong master of whisperers then sp...        PERSON   \n",
       "280   In the Bite the lords of the Three Sisters had...        PERSON   \n",
       "\n",
       "                        2  \n",
       "7076        (Lady, Baela)  \n",
       "3815  (Princess, Helaena)  \n",
       "1195         (Her, Grace)  \n",
       "3991      (Larys, Strong)  \n",
       "280      (Queen, Visenya)  "
      ]
     },
     "execution_count": 9,
     "metadata": {},
     "output_type": "execute_result"
    }
   ],
   "source": [
    "relations_df.sample(5)"
   ]
  },
  {
   "cell_type": "code",
   "execution_count": 15,
   "id": "4a852dba",
   "metadata": {},
   "outputs": [
    {
     "data": {
      "text/plain": [
       "'In this as in the matter of Aegons betrothal to Myrielle Peake Lord Unwin found himself overruled by the other regents Over his strenuous objections King Aegon and Queen Daenera descended from the castle in their litter accompanied by Lady Baela and her newborn daughter her sister Lady Rhaena with her lord husband Corwyn Corbray Grand Maester Munkun Septon Bernard the regents Manfryd Mooton and Thaddeus Rowan the knights of the Kingsguard and many other notables eager to meet Lady Baela at the docks'"
      ]
     },
     "execution_count": 15,
     "metadata": {},
     "output_type": "execute_result"
    }
   ],
   "source": [
    "relations_df[0][7076]"
   ]
  },
  {
   "cell_type": "code",
   "execution_count": 17,
   "id": "58810554",
   "metadata": {},
   "outputs": [
    {
     "data": {
      "text/html": [
       "<div>\n",
       "<style scoped>\n",
       "    .dataframe tbody tr th:only-of-type {\n",
       "        vertical-align: middle;\n",
       "    }\n",
       "\n",
       "    .dataframe tbody tr th {\n",
       "        vertical-align: top;\n",
       "    }\n",
       "\n",
       "    .dataframe thead th {\n",
       "        text-align: right;\n",
       "    }\n",
       "</style>\n",
       "<table border=\"1\" class=\"dataframe\">\n",
       "  <thead>\n",
       "    <tr style=\"text-align: right;\">\n",
       "      <th></th>\n",
       "      <th>context</th>\n",
       "      <th>label</th>\n",
       "      <th>entity</th>\n",
       "    </tr>\n",
       "  </thead>\n",
       "  <tbody>\n",
       "    <tr>\n",
       "      <th>5008</th>\n",
       "      <td>All told the forces gathered under Queen Rhaen...</td>\n",
       "      <td>PERSON</td>\n",
       "      <td>(Tumbleton, Little)</td>\n",
       "    </tr>\n",
       "    <tr>\n",
       "      <th>877</th>\n",
       "      <td>Thousands fled Oldtown that night streaming fr...</td>\n",
       "      <td>PERSON</td>\n",
       "      <td>(Starry, Sept)</td>\n",
       "    </tr>\n",
       "    <tr>\n",
       "      <th>7009</th>\n",
       "      <td>Lord Dalton Greyjoy did indeed possess twoandt...</td>\n",
       "      <td>ORGANIZATION</td>\n",
       "      <td>(Casterly, Rock)</td>\n",
       "    </tr>\n",
       "    <tr>\n",
       "      <th>5612</th>\n",
       "      <td>Yet neither Waters nor any of the other knight...</td>\n",
       "      <td>PERSON</td>\n",
       "      <td>(Rhaenyra, Targaryen)</td>\n",
       "    </tr>\n",
       "    <tr>\n",
       "      <th>2186</th>\n",
       "      <td>weak about him nothing indecisive as his siste...</td>\n",
       "      <td>PERSON</td>\n",
       "      <td>(Yi, Ti)</td>\n",
       "    </tr>\n",
       "  </tbody>\n",
       "</table>\n",
       "</div>"
      ],
      "text/plain": [
       "                                                context         label  \\\n",
       "5008  All told the forces gathered under Queen Rhaen...        PERSON   \n",
       "877   Thousands fled Oldtown that night streaming fr...        PERSON   \n",
       "7009  Lord Dalton Greyjoy did indeed possess twoandt...  ORGANIZATION   \n",
       "5612  Yet neither Waters nor any of the other knight...        PERSON   \n",
       "2186  weak about him nothing indecisive as his siste...        PERSON   \n",
       "\n",
       "                     entity  \n",
       "5008    (Tumbleton, Little)  \n",
       "877          (Starry, Sept)  \n",
       "7009       (Casterly, Rock)  \n",
       "5612  (Rhaenyra, Targaryen)  \n",
       "2186               (Yi, Ti)  "
      ]
     },
     "execution_count": 17,
     "metadata": {},
     "output_type": "execute_result"
    }
   ],
   "source": [
    "relations_df = relations_df.rename(columns={0: 'context',1:'label',2:'entity'})\n",
    "relations_df.sample(5)"
   ]
  },
  {
   "cell_type": "code",
   "execution_count": 24,
   "id": "14311d14",
   "metadata": {},
   "outputs": [
    {
     "data": {
      "text/plain": [
       "('Tumbleton', 'Little')"
      ]
     },
     "execution_count": 24,
     "metadata": {},
     "output_type": "execute_result"
    }
   ],
   "source": [
    "relations_df['entity'][5008]\n"
   ]
  },
  {
   "cell_type": "code",
   "execution_count": 51,
   "id": "ac5c5449",
   "metadata": {},
   "outputs": [],
   "source": [
    "def question_generation(row):\n",
    "    entities = []\n",
    "    #for index, row in ner_content.iterrows():\n",
    "        #entity_type = row['label']\n",
    "        #entity_values = (row['entity'])\n",
    "    entities.append((row.iloc[-2], row.iloc[-1]))\n",
    "\n",
    "    \n",
    "    # Parse entities from the content\n",
    "    #entities = [eval(line.strip()) for line in ner_content.strip().split('\\n')]\n",
    "\n",
    "    # Organize entities into a dictionary\n",
    "    entity_dict = {}\n",
    "    for entity_type, entity_value in entities:\n",
    "        if entity_type not in entity_dict:\n",
    "            entity_dict[entity_type] = []\n",
    "        entity_dict[entity_type].append(\" \".join(entity_value))\n",
    "        # Define question templates for different entity types\n",
    "    question_templates = {\n",
    "    \n",
    "\n",
    "        \"ORG\": [\n",
    "            \"What is the history and significance of {}?\",\n",
    "            \"What is the purpose of {} in the story?\",\n",
    "            \"Can you tell me more about the organization {}?\",\n",
    "            \"What role does {} play in the story?\"\n",
    "        ],\n",
    "\n",
    "        \"PERSON\": [\n",
    "            \"Who is {} and what is their role in the story?\",\n",
    "            \"What is {} known for in the story?\",\n",
    "            \"Can you tell me more about the character {}?\",\n",
    "            \"What motivates {} in the story?\"\n",
    "        ],\n",
    "        \"DATE\": [\n",
    "            \"What significant events happened on {}?\",\n",
    "            \"What happened during the time period of {}?\",\n",
    "            \"How does {} impact the story?\"\n",
    "        ],\n",
    "        \"GPE\": [\n",
    "            \"What is the significance of {} in the story?\",\n",
    "            \"What role does {} play in the story?\",\n",
    "            \"What cultural aspects of {} are present in the story?\",\n",
    "            \"What impact does {} have on the story?\"\n",
    "        ],\n",
    "        \"CARDINAL\": [\n",
    "            \"How many {} are mentioned in the story?\",\n",
    "            \"What significance does the number {} have in the story?\",\n",
    "            \"What is the importance of {} in the story?\"\n",
    "        ],\n",
    "        \"ORDINAL\": [\n",
    "            \"What is the significance of the {} event in the story?\",\n",
    "            \"What happens in the story during the {} event?\",\n",
    "            \"What impact does the {} event have on the story?\"\n",
    "        ],\n",
    "        \"PRODUCT\": [\n",
    "            \"What is the importance of {} in the story?\",\n",
    "            \"What role does {} play in the story?\",\n",
    "            \"What impact does {} have on the story?\"\n",
    "        ]\n",
    "    }\n",
    "    # Generate questions based on the question templates and the extracted entities\n",
    "    generated_questions = []\n",
    "    for entity_type, entity_values in entity_dict.items():\n",
    "        for entity_value in entity_values:\n",
    "            if entity_type in question_templates:\n",
    "                for template in question_templates[entity_type]:\n",
    "                    question = template.format(entity_value)\n",
    "                    generated_questions.append(question)\n",
    "    return generated_questions\n",
    "    "
   ]
  },
  {
   "cell_type": "code",
   "execution_count": 48,
   "id": "7542448d",
   "metadata": {},
   "outputs": [],
   "source": [
    "q=question_generation(relations_df['label'][20],relations_df['entity'][20]) "
   ]
  },
  {
   "cell_type": "code",
   "execution_count": 49,
   "id": "677e22c0",
   "metadata": {},
   "outputs": [
    {
     "data": {
      "text/plain": [
       "['Who is George R and what is their role in the story?',\n",
       " 'What is George R known for in the story?',\n",
       " 'Can you tell me more about the character George R?',\n",
       " 'What motivates George R in the story?']"
      ]
     },
     "execution_count": 49,
     "metadata": {},
     "output_type": "execute_result"
    }
   ],
   "source": [
    "q"
   ]
  },
  {
   "cell_type": "code",
   "execution_count": 52,
   "id": "d02753ac",
   "metadata": {},
   "outputs": [],
   "source": [
    "# Apply the function to each row of the DataFrame and save the resulting values in a new column\n",
    "relations_df['questions'] = relations_df.iloc[:, -2:].apply(question_generation, axis=1)"
   ]
  },
  {
   "cell_type": "code",
   "execution_count": 56,
   "id": "2d2bdca4",
   "metadata": {},
   "outputs": [
    {
     "data": {
      "text/html": [
       "<div>\n",
       "<style scoped>\n",
       "    .dataframe tbody tr th:only-of-type {\n",
       "        vertical-align: middle;\n",
       "    }\n",
       "\n",
       "    .dataframe tbody tr th {\n",
       "        vertical-align: top;\n",
       "    }\n",
       "\n",
       "    .dataframe thead th {\n",
       "        text-align: right;\n",
       "    }\n",
       "</style>\n",
       "<table border=\"1\" class=\"dataframe\">\n",
       "  <thead>\n",
       "    <tr style=\"text-align: right;\">\n",
       "      <th></th>\n",
       "      <th>context</th>\n",
       "      <th>label</th>\n",
       "      <th>entity</th>\n",
       "      <th>questions</th>\n",
       "    </tr>\n",
       "  </thead>\n",
       "  <tbody>\n",
       "    <tr>\n",
       "      <th>1734</th>\n",
       "      <td>Rhaena Targaryen was the blood of the dragon a...</td>\n",
       "      <td>PERSON</td>\n",
       "      <td>(Casterly, Rock)</td>\n",
       "      <td>[Who is Casterly Rock and what is their role i...</td>\n",
       "    </tr>\n",
       "  </tbody>\n",
       "</table>\n",
       "</div>"
      ],
      "text/plain": [
       "                                                context   label  \\\n",
       "1734  Rhaena Targaryen was the blood of the dragon a...  PERSON   \n",
       "\n",
       "                entity                                          questions  \n",
       "1734  (Casterly, Rock)  [Who is Casterly Rock and what is their role i...  "
      ]
     },
     "execution_count": 56,
     "metadata": {},
     "output_type": "execute_result"
    }
   ],
   "source": [
    "relations_df.sample(1)"
   ]
  },
  {
   "cell_type": "code",
   "execution_count": 50,
   "id": "3dc52540",
   "metadata": {},
   "outputs": [
    {
     "data": {
      "text/plain": [
       "'The Princess and the Queen published in Dangerous Women edited by George R R Martin and Gardner Dozois copyright  2013 by George R R Martin and Gardner Dozois'"
      ]
     },
     "execution_count": 50,
     "metadata": {},
     "output_type": "execute_result"
    }
   ],
   "source": [
    "relations_df['context'][20]"
   ]
  },
  {
   "cell_type": "code",
   "execution_count": 57,
   "id": "1591ae1e",
   "metadata": {},
   "outputs": [],
   "source": [
    "pd.set_option('display.max_colwidth', None)"
   ]
  },
  {
   "cell_type": "code",
   "execution_count": 60,
   "id": "e04c6c5e",
   "metadata": {},
   "outputs": [
    {
     "data": {
      "text/html": [
       "<div>\n",
       "<style scoped>\n",
       "    .dataframe tbody tr th:only-of-type {\n",
       "        vertical-align: middle;\n",
       "    }\n",
       "\n",
       "    .dataframe tbody tr th {\n",
       "        vertical-align: top;\n",
       "    }\n",
       "\n",
       "    .dataframe thead th {\n",
       "        text-align: right;\n",
       "    }\n",
       "</style>\n",
       "<table border=\"1\" class=\"dataframe\">\n",
       "  <thead>\n",
       "    <tr style=\"text-align: right;\">\n",
       "      <th></th>\n",
       "      <th>context</th>\n",
       "      <th>label</th>\n",
       "      <th>entity</th>\n",
       "      <th>questions</th>\n",
       "    </tr>\n",
       "  </thead>\n",
       "  <tbody>\n",
       "    <tr>\n",
       "      <th>2933</th>\n",
       "      <td>When it was done Lord Rogar seemed weary It seems I will not die with axe in hand after all he told the king sadly Nor did he Rogar Baratheon Lord of Storms End and onetime Hand of the King and Lord Protector of the Realm died at Storms End half a year later in the presence of his maester his septon his brother Ser Garon and his son and heir Boremund</td>\n",
       "      <td>PERSON</td>\n",
       "      <td>(Lord, Rogar)</td>\n",
       "      <td>[Who is Lord Rogar and what is their role in the story?, What is Lord Rogar known for in the story?, Can you tell me more about the character Lord Rogar?, What motivates Lord Rogar in the story?]</td>\n",
       "    </tr>\n",
       "  </tbody>\n",
       "</table>\n",
       "</div>"
      ],
      "text/plain": [
       "                                                                                                                                                                                                                                                                                                                                                               context  \\\n",
       "2933  When it was done Lord Rogar seemed weary It seems I will not die with axe in hand after all he told the king sadly Nor did he Rogar Baratheon Lord of Storms End and onetime Hand of the King and Lord Protector of the Realm died at Storms End half a year later in the presence of his maester his septon his brother Ser Garon and his son and heir Boremund   \n",
       "\n",
       "       label         entity  \\\n",
       "2933  PERSON  (Lord, Rogar)   \n",
       "\n",
       "                                                                                                                                                                                                questions  \n",
       "2933  [Who is Lord Rogar and what is their role in the story?, What is Lord Rogar known for in the story?, Can you tell me more about the character Lord Rogar?, What motivates Lord Rogar in the story?]  "
      ]
     },
     "execution_count": 60,
     "metadata": {},
     "output_type": "execute_result"
    }
   ],
   "source": [
    "relations_df.sample(1)"
   ]
  },
  {
   "cell_type": "code",
   "execution_count": 61,
   "id": "de906748",
   "metadata": {},
   "outputs": [],
   "source": [
    "relations_df.to_csv(\"data.csv\", index=False)"
   ]
  },
  {
   "cell_type": "code",
   "execution_count": null,
   "id": "c6191eee",
   "metadata": {},
   "outputs": [],
   "source": []
  }
 ],
 "metadata": {
  "kernelspec": {
   "display_name": "Python 3 (ipykernel)",
   "language": "python",
   "name": "python3"
  },
  "language_info": {
   "codemirror_mode": {
    "name": "ipython",
    "version": 3
   },
   "file_extension": ".py",
   "mimetype": "text/x-python",
   "name": "python",
   "nbconvert_exporter": "python",
   "pygments_lexer": "ipython3",
   "version": "3.9.13"
  }
 },
 "nbformat": 4,
 "nbformat_minor": 5
}
