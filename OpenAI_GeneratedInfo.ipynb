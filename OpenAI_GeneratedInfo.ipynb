{
  "nbformat": 4,
  "nbformat_minor": 0,
  "metadata": {
    "colab": {
      "provenance": []
    },
    "kernelspec": {
      "name": "python3",
      "display_name": "Python 3"
    },
    "language_info": {
      "name": "python"
    },
    "widgets": {
      "application/vnd.jupyter.widget-state+json": {
        "a465be6a40144f66a5bc6d0126f7ea58": {
          "model_module": "@jupyter-widgets/controls",
          "model_name": "HBoxModel",
          "model_module_version": "1.5.0",
          "state": {
            "_dom_classes": [],
            "_model_module": "@jupyter-widgets/controls",
            "_model_module_version": "1.5.0",
            "_model_name": "HBoxModel",
            "_view_count": null,
            "_view_module": "@jupyter-widgets/controls",
            "_view_module_version": "1.5.0",
            "_view_name": "HBoxView",
            "box_style": "",
            "children": [
              "IPY_MODEL_b75595c91f76489fa430fff11fa498a8",
              "IPY_MODEL_a03372f5263e4c0ca0be87e904e4f403",
              "IPY_MODEL_a46e4d96e4e544ccaabdbac71d6abbcf"
            ],
            "layout": "IPY_MODEL_15908a23daf2416ead779e3bb2d1c7f3"
          }
        },
        "b75595c91f76489fa430fff11fa498a8": {
          "model_module": "@jupyter-widgets/controls",
          "model_name": "HTMLModel",
          "model_module_version": "1.5.0",
          "state": {
            "_dom_classes": [],
            "_model_module": "@jupyter-widgets/controls",
            "_model_module_version": "1.5.0",
            "_model_name": "HTMLModel",
            "_view_count": null,
            "_view_module": "@jupyter-widgets/controls",
            "_view_module_version": "1.5.0",
            "_view_name": "HTMLView",
            "description": "",
            "description_tooltip": null,
            "layout": "IPY_MODEL_9e10856e2abc4411a593d1d90878ba10",
            "placeholder": "​",
            "style": "IPY_MODEL_93714ee8d9404c7b8e1d74c4f5501d8e",
            "value": "Downloading pytorch_model.bin: 100%"
          }
        },
        "a03372f5263e4c0ca0be87e904e4f403": {
          "model_module": "@jupyter-widgets/controls",
          "model_name": "FloatProgressModel",
          "model_module_version": "1.5.0",
          "state": {
            "_dom_classes": [],
            "_model_module": "@jupyter-widgets/controls",
            "_model_module_version": "1.5.0",
            "_model_name": "FloatProgressModel",
            "_view_count": null,
            "_view_module": "@jupyter-widgets/controls",
            "_view_module_version": "1.5.0",
            "_view_name": "ProgressView",
            "bar_style": "success",
            "description": "",
            "description_tooltip": null,
            "layout": "IPY_MODEL_32b3712b933b446ab7a53b8a00c9249e",
            "max": 891691430,
            "min": 0,
            "orientation": "horizontal",
            "style": "IPY_MODEL_49dcb7d212734172b5cca72ff021a95d",
            "value": 891691430
          }
        },
        "a46e4d96e4e544ccaabdbac71d6abbcf": {
          "model_module": "@jupyter-widgets/controls",
          "model_name": "HTMLModel",
          "model_module_version": "1.5.0",
          "state": {
            "_dom_classes": [],
            "_model_module": "@jupyter-widgets/controls",
            "_model_module_version": "1.5.0",
            "_model_name": "HTMLModel",
            "_view_count": null,
            "_view_module": "@jupyter-widgets/controls",
            "_view_module_version": "1.5.0",
            "_view_name": "HTMLView",
            "description": "",
            "description_tooltip": null,
            "layout": "IPY_MODEL_4e1b7218c5e14209893b36778ca8752b",
            "placeholder": "​",
            "style": "IPY_MODEL_88a64cec5e2a4a4eaff661651d8f94b3",
            "value": " 892M/892M [00:12&lt;00:00, 85.5MB/s]"
          }
        },
        "15908a23daf2416ead779e3bb2d1c7f3": {
          "model_module": "@jupyter-widgets/base",
          "model_name": "LayoutModel",
          "model_module_version": "1.2.0",
          "state": {
            "_model_module": "@jupyter-widgets/base",
            "_model_module_version": "1.2.0",
            "_model_name": "LayoutModel",
            "_view_count": null,
            "_view_module": "@jupyter-widgets/base",
            "_view_module_version": "1.2.0",
            "_view_name": "LayoutView",
            "align_content": null,
            "align_items": null,
            "align_self": null,
            "border": null,
            "bottom": null,
            "display": null,
            "flex": null,
            "flex_flow": null,
            "grid_area": null,
            "grid_auto_columns": null,
            "grid_auto_flow": null,
            "grid_auto_rows": null,
            "grid_column": null,
            "grid_gap": null,
            "grid_row": null,
            "grid_template_areas": null,
            "grid_template_columns": null,
            "grid_template_rows": null,
            "height": null,
            "justify_content": null,
            "justify_items": null,
            "left": null,
            "margin": null,
            "max_height": null,
            "max_width": null,
            "min_height": null,
            "min_width": null,
            "object_fit": null,
            "object_position": null,
            "order": null,
            "overflow": null,
            "overflow_x": null,
            "overflow_y": null,
            "padding": null,
            "right": null,
            "top": null,
            "visibility": null,
            "width": null
          }
        },
        "9e10856e2abc4411a593d1d90878ba10": {
          "model_module": "@jupyter-widgets/base",
          "model_name": "LayoutModel",
          "model_module_version": "1.2.0",
          "state": {
            "_model_module": "@jupyter-widgets/base",
            "_model_module_version": "1.2.0",
            "_model_name": "LayoutModel",
            "_view_count": null,
            "_view_module": "@jupyter-widgets/base",
            "_view_module_version": "1.2.0",
            "_view_name": "LayoutView",
            "align_content": null,
            "align_items": null,
            "align_self": null,
            "border": null,
            "bottom": null,
            "display": null,
            "flex": null,
            "flex_flow": null,
            "grid_area": null,
            "grid_auto_columns": null,
            "grid_auto_flow": null,
            "grid_auto_rows": null,
            "grid_column": null,
            "grid_gap": null,
            "grid_row": null,
            "grid_template_areas": null,
            "grid_template_columns": null,
            "grid_template_rows": null,
            "height": null,
            "justify_content": null,
            "justify_items": null,
            "left": null,
            "margin": null,
            "max_height": null,
            "max_width": null,
            "min_height": null,
            "min_width": null,
            "object_fit": null,
            "object_position": null,
            "order": null,
            "overflow": null,
            "overflow_x": null,
            "overflow_y": null,
            "padding": null,
            "right": null,
            "top": null,
            "visibility": null,
            "width": null
          }
        },
        "93714ee8d9404c7b8e1d74c4f5501d8e": {
          "model_module": "@jupyter-widgets/controls",
          "model_name": "DescriptionStyleModel",
          "model_module_version": "1.5.0",
          "state": {
            "_model_module": "@jupyter-widgets/controls",
            "_model_module_version": "1.5.0",
            "_model_name": "DescriptionStyleModel",
            "_view_count": null,
            "_view_module": "@jupyter-widgets/base",
            "_view_module_version": "1.2.0",
            "_view_name": "StyleView",
            "description_width": ""
          }
        },
        "32b3712b933b446ab7a53b8a00c9249e": {
          "model_module": "@jupyter-widgets/base",
          "model_name": "LayoutModel",
          "model_module_version": "1.2.0",
          "state": {
            "_model_module": "@jupyter-widgets/base",
            "_model_module_version": "1.2.0",
            "_model_name": "LayoutModel",
            "_view_count": null,
            "_view_module": "@jupyter-widgets/base",
            "_view_module_version": "1.2.0",
            "_view_name": "LayoutView",
            "align_content": null,
            "align_items": null,
            "align_self": null,
            "border": null,
            "bottom": null,
            "display": null,
            "flex": null,
            "flex_flow": null,
            "grid_area": null,
            "grid_auto_columns": null,
            "grid_auto_flow": null,
            "grid_auto_rows": null,
            "grid_column": null,
            "grid_gap": null,
            "grid_row": null,
            "grid_template_areas": null,
            "grid_template_columns": null,
            "grid_template_rows": null,
            "height": null,
            "justify_content": null,
            "justify_items": null,
            "left": null,
            "margin": null,
            "max_height": null,
            "max_width": null,
            "min_height": null,
            "min_width": null,
            "object_fit": null,
            "object_position": null,
            "order": null,
            "overflow": null,
            "overflow_x": null,
            "overflow_y": null,
            "padding": null,
            "right": null,
            "top": null,
            "visibility": null,
            "width": null
          }
        },
        "49dcb7d212734172b5cca72ff021a95d": {
          "model_module": "@jupyter-widgets/controls",
          "model_name": "ProgressStyleModel",
          "model_module_version": "1.5.0",
          "state": {
            "_model_module": "@jupyter-widgets/controls",
            "_model_module_version": "1.5.0",
            "_model_name": "ProgressStyleModel",
            "_view_count": null,
            "_view_module": "@jupyter-widgets/base",
            "_view_module_version": "1.2.0",
            "_view_name": "StyleView",
            "bar_color": null,
            "description_width": ""
          }
        },
        "4e1b7218c5e14209893b36778ca8752b": {
          "model_module": "@jupyter-widgets/base",
          "model_name": "LayoutModel",
          "model_module_version": "1.2.0",
          "state": {
            "_model_module": "@jupyter-widgets/base",
            "_model_module_version": "1.2.0",
            "_model_name": "LayoutModel",
            "_view_count": null,
            "_view_module": "@jupyter-widgets/base",
            "_view_module_version": "1.2.0",
            "_view_name": "LayoutView",
            "align_content": null,
            "align_items": null,
            "align_self": null,
            "border": null,
            "bottom": null,
            "display": null,
            "flex": null,
            "flex_flow": null,
            "grid_area": null,
            "grid_auto_columns": null,
            "grid_auto_flow": null,
            "grid_auto_rows": null,
            "grid_column": null,
            "grid_gap": null,
            "grid_row": null,
            "grid_template_areas": null,
            "grid_template_columns": null,
            "grid_template_rows": null,
            "height": null,
            "justify_content": null,
            "justify_items": null,
            "left": null,
            "margin": null,
            "max_height": null,
            "max_width": null,
            "min_height": null,
            "min_width": null,
            "object_fit": null,
            "object_position": null,
            "order": null,
            "overflow": null,
            "overflow_x": null,
            "overflow_y": null,
            "padding": null,
            "right": null,
            "top": null,
            "visibility": null,
            "width": null
          }
        },
        "88a64cec5e2a4a4eaff661651d8f94b3": {
          "model_module": "@jupyter-widgets/controls",
          "model_name": "DescriptionStyleModel",
          "model_module_version": "1.5.0",
          "state": {
            "_model_module": "@jupyter-widgets/controls",
            "_model_module_version": "1.5.0",
            "_model_name": "DescriptionStyleModel",
            "_view_count": null,
            "_view_module": "@jupyter-widgets/base",
            "_view_module_version": "1.2.0",
            "_view_name": "StyleView",
            "description_width": ""
          }
        },
        "e102c7b75e424ec38ff093d525a31372": {
          "model_module": "@jupyter-widgets/controls",
          "model_name": "HBoxModel",
          "model_module_version": "1.5.0",
          "state": {
            "_dom_classes": [],
            "_model_module": "@jupyter-widgets/controls",
            "_model_module_version": "1.5.0",
            "_model_name": "HBoxModel",
            "_view_count": null,
            "_view_module": "@jupyter-widgets/controls",
            "_view_module_version": "1.5.0",
            "_view_name": "HBoxView",
            "box_style": "",
            "children": [
              "IPY_MODEL_2e9077caa31e40ba8253abaa0443b42a",
              "IPY_MODEL_845d6e215dba4a50afb85ab276b0f850",
              "IPY_MODEL_d08b42222c674710bdb472c2243ea714"
            ],
            "layout": "IPY_MODEL_403bd89276d5495ca0b0ff1e25bcce1b"
          }
        },
        "2e9077caa31e40ba8253abaa0443b42a": {
          "model_module": "@jupyter-widgets/controls",
          "model_name": "HTMLModel",
          "model_module_version": "1.5.0",
          "state": {
            "_dom_classes": [],
            "_model_module": "@jupyter-widgets/controls",
            "_model_module_version": "1.5.0",
            "_model_name": "HTMLModel",
            "_view_count": null,
            "_view_module": "@jupyter-widgets/controls",
            "_view_module_version": "1.5.0",
            "_view_name": "HTMLView",
            "description": "",
            "description_tooltip": null,
            "layout": "IPY_MODEL_225e882c0d684913a77b985bb3129f79",
            "placeholder": "​",
            "style": "IPY_MODEL_e6d2b64cee9142288440f94fe0f77226",
            "value": "Downloading (…)neration_config.json: 100%"
          }
        },
        "845d6e215dba4a50afb85ab276b0f850": {
          "model_module": "@jupyter-widgets/controls",
          "model_name": "FloatProgressModel",
          "model_module_version": "1.5.0",
          "state": {
            "_dom_classes": [],
            "_model_module": "@jupyter-widgets/controls",
            "_model_module_version": "1.5.0",
            "_model_name": "FloatProgressModel",
            "_view_count": null,
            "_view_module": "@jupyter-widgets/controls",
            "_view_module_version": "1.5.0",
            "_view_name": "ProgressView",
            "bar_style": "success",
            "description": "",
            "description_tooltip": null,
            "layout": "IPY_MODEL_f1b31675f18f4c349f96aed162821608",
            "max": 147,
            "min": 0,
            "orientation": "horizontal",
            "style": "IPY_MODEL_badf8b23e9d14ecc8ffe840b4b82bbd3",
            "value": 147
          }
        },
        "d08b42222c674710bdb472c2243ea714": {
          "model_module": "@jupyter-widgets/controls",
          "model_name": "HTMLModel",
          "model_module_version": "1.5.0",
          "state": {
            "_dom_classes": [],
            "_model_module": "@jupyter-widgets/controls",
            "_model_module_version": "1.5.0",
            "_model_name": "HTMLModel",
            "_view_count": null,
            "_view_module": "@jupyter-widgets/controls",
            "_view_module_version": "1.5.0",
            "_view_name": "HTMLView",
            "description": "",
            "description_tooltip": null,
            "layout": "IPY_MODEL_7832aaed3aaa47248c0fe1cd8d867f59",
            "placeholder": "​",
            "style": "IPY_MODEL_004654813ba342ca8c206ab046a0b6a3",
            "value": " 147/147 [00:00&lt;00:00, 1.73kB/s]"
          }
        },
        "403bd89276d5495ca0b0ff1e25bcce1b": {
          "model_module": "@jupyter-widgets/base",
          "model_name": "LayoutModel",
          "model_module_version": "1.2.0",
          "state": {
            "_model_module": "@jupyter-widgets/base",
            "_model_module_version": "1.2.0",
            "_model_name": "LayoutModel",
            "_view_count": null,
            "_view_module": "@jupyter-widgets/base",
            "_view_module_version": "1.2.0",
            "_view_name": "LayoutView",
            "align_content": null,
            "align_items": null,
            "align_self": null,
            "border": null,
            "bottom": null,
            "display": null,
            "flex": null,
            "flex_flow": null,
            "grid_area": null,
            "grid_auto_columns": null,
            "grid_auto_flow": null,
            "grid_auto_rows": null,
            "grid_column": null,
            "grid_gap": null,
            "grid_row": null,
            "grid_template_areas": null,
            "grid_template_columns": null,
            "grid_template_rows": null,
            "height": null,
            "justify_content": null,
            "justify_items": null,
            "left": null,
            "margin": null,
            "max_height": null,
            "max_width": null,
            "min_height": null,
            "min_width": null,
            "object_fit": null,
            "object_position": null,
            "order": null,
            "overflow": null,
            "overflow_x": null,
            "overflow_y": null,
            "padding": null,
            "right": null,
            "top": null,
            "visibility": null,
            "width": null
          }
        },
        "225e882c0d684913a77b985bb3129f79": {
          "model_module": "@jupyter-widgets/base",
          "model_name": "LayoutModel",
          "model_module_version": "1.2.0",
          "state": {
            "_model_module": "@jupyter-widgets/base",
            "_model_module_version": "1.2.0",
            "_model_name": "LayoutModel",
            "_view_count": null,
            "_view_module": "@jupyter-widgets/base",
            "_view_module_version": "1.2.0",
            "_view_name": "LayoutView",
            "align_content": null,
            "align_items": null,
            "align_self": null,
            "border": null,
            "bottom": null,
            "display": null,
            "flex": null,
            "flex_flow": null,
            "grid_area": null,
            "grid_auto_columns": null,
            "grid_auto_flow": null,
            "grid_auto_rows": null,
            "grid_column": null,
            "grid_gap": null,
            "grid_row": null,
            "grid_template_areas": null,
            "grid_template_columns": null,
            "grid_template_rows": null,
            "height": null,
            "justify_content": null,
            "justify_items": null,
            "left": null,
            "margin": null,
            "max_height": null,
            "max_width": null,
            "min_height": null,
            "min_width": null,
            "object_fit": null,
            "object_position": null,
            "order": null,
            "overflow": null,
            "overflow_x": null,
            "overflow_y": null,
            "padding": null,
            "right": null,
            "top": null,
            "visibility": null,
            "width": null
          }
        },
        "e6d2b64cee9142288440f94fe0f77226": {
          "model_module": "@jupyter-widgets/controls",
          "model_name": "DescriptionStyleModel",
          "model_module_version": "1.5.0",
          "state": {
            "_model_module": "@jupyter-widgets/controls",
            "_model_module_version": "1.5.0",
            "_model_name": "DescriptionStyleModel",
            "_view_count": null,
            "_view_module": "@jupyter-widgets/base",
            "_view_module_version": "1.2.0",
            "_view_name": "StyleView",
            "description_width": ""
          }
        },
        "f1b31675f18f4c349f96aed162821608": {
          "model_module": "@jupyter-widgets/base",
          "model_name": "LayoutModel",
          "model_module_version": "1.2.0",
          "state": {
            "_model_module": "@jupyter-widgets/base",
            "_model_module_version": "1.2.0",
            "_model_name": "LayoutModel",
            "_view_count": null,
            "_view_module": "@jupyter-widgets/base",
            "_view_module_version": "1.2.0",
            "_view_name": "LayoutView",
            "align_content": null,
            "align_items": null,
            "align_self": null,
            "border": null,
            "bottom": null,
            "display": null,
            "flex": null,
            "flex_flow": null,
            "grid_area": null,
            "grid_auto_columns": null,
            "grid_auto_flow": null,
            "grid_auto_rows": null,
            "grid_column": null,
            "grid_gap": null,
            "grid_row": null,
            "grid_template_areas": null,
            "grid_template_columns": null,
            "grid_template_rows": null,
            "height": null,
            "justify_content": null,
            "justify_items": null,
            "left": null,
            "margin": null,
            "max_height": null,
            "max_width": null,
            "min_height": null,
            "min_width": null,
            "object_fit": null,
            "object_position": null,
            "order": null,
            "overflow": null,
            "overflow_x": null,
            "overflow_y": null,
            "padding": null,
            "right": null,
            "top": null,
            "visibility": null,
            "width": null
          }
        },
        "badf8b23e9d14ecc8ffe840b4b82bbd3": {
          "model_module": "@jupyter-widgets/controls",
          "model_name": "ProgressStyleModel",
          "model_module_version": "1.5.0",
          "state": {
            "_model_module": "@jupyter-widgets/controls",
            "_model_module_version": "1.5.0",
            "_model_name": "ProgressStyleModel",
            "_view_count": null,
            "_view_module": "@jupyter-widgets/base",
            "_view_module_version": "1.2.0",
            "_view_name": "StyleView",
            "bar_color": null,
            "description_width": ""
          }
        },
        "7832aaed3aaa47248c0fe1cd8d867f59": {
          "model_module": "@jupyter-widgets/base",
          "model_name": "LayoutModel",
          "model_module_version": "1.2.0",
          "state": {
            "_model_module": "@jupyter-widgets/base",
            "_model_module_version": "1.2.0",
            "_model_name": "LayoutModel",
            "_view_count": null,
            "_view_module": "@jupyter-widgets/base",
            "_view_module_version": "1.2.0",
            "_view_name": "LayoutView",
            "align_content": null,
            "align_items": null,
            "align_self": null,
            "border": null,
            "bottom": null,
            "display": null,
            "flex": null,
            "flex_flow": null,
            "grid_area": null,
            "grid_auto_columns": null,
            "grid_auto_flow": null,
            "grid_auto_rows": null,
            "grid_column": null,
            "grid_gap": null,
            "grid_row": null,
            "grid_template_areas": null,
            "grid_template_columns": null,
            "grid_template_rows": null,
            "height": null,
            "justify_content": null,
            "justify_items": null,
            "left": null,
            "margin": null,
            "max_height": null,
            "max_width": null,
            "min_height": null,
            "min_width": null,
            "object_fit": null,
            "object_position": null,
            "order": null,
            "overflow": null,
            "overflow_x": null,
            "overflow_y": null,
            "padding": null,
            "right": null,
            "top": null,
            "visibility": null,
            "width": null
          }
        },
        "004654813ba342ca8c206ab046a0b6a3": {
          "model_module": "@jupyter-widgets/controls",
          "model_name": "DescriptionStyleModel",
          "model_module_version": "1.5.0",
          "state": {
            "_model_module": "@jupyter-widgets/controls",
            "_model_module_version": "1.5.0",
            "_model_name": "DescriptionStyleModel",
            "_view_count": null,
            "_view_module": "@jupyter-widgets/base",
            "_view_module_version": "1.2.0",
            "_view_name": "StyleView",
            "description_width": ""
          }
        }
      }
    }
  },
  "cells": [
    {
      "cell_type": "code",
      "source": [
        "\n",
        "!pip install transformers\n",
        "!pip install torch\n",
        "!pip install sentencepiece\n"
      ],
      "metadata": {
        "id": "VX2jdlvlxyLy"
      },
      "execution_count": null,
      "outputs": []
    },
    {
      "cell_type": "code",
      "source": [
        "!unzip /content/fine_tuned_t5_fire_and_blood.zip\n"
      ],
      "metadata": {
        "id": "Xsr_a5N_x5Py"
      },
      "execution_count": null,
      "outputs": []
    },
    {
      "cell_type": "code",
      "source": [
        "import torch\n",
        "from transformers import T5ForConditionalGeneration, T5Tokenizer\n"
      ],
      "metadata": {
        "id": "mUehy9iXykEp"
      },
      "execution_count": 3,
      "outputs": []
    },
    {
      "cell_type": "code",
      "source": [
        "model_path = 'fine_tuned_t5_fire_and_blood'  # Change this path if necessary\n",
        "tokenizer = T5Tokenizer.from_pretrained('t5-base')\n",
        "\n",
        "model = T5ForConditionalGeneration.from_pretrained(model_path)\n"
      ],
      "metadata": {
        "id": "I77Y6pBgysLJ"
      },
      "execution_count": null,
      "outputs": []
    },
    {
      "cell_type": "code",
      "source": [
        "def generate_question(text):\n",
        "    input_text = \"generate_question: \" + text\n",
        "    input_tensor = tokenizer.encode(input_text, return_tensors='pt')\n",
        "    output_tensor = model.generate(input_tensor, max_length=100, num_return_sequences=1)\n",
        "    output_text = tokenizer.decode(output_tensor[0], skip_special_tokens=True)\n",
        "    return output_text\n",
        "\n",
        "def generate_answer(text, question):\n",
        "    input_text = f\"generate_answer: context: {text} question: {question}\"\n",
        "    input_tensor = tokenizer.encode(input_text, return_tensors='pt')\n",
        "    output_tensor = model.generate(input_tensor, max_length=100, num_return_sequences=1)\n",
        "    output_text = tokenizer.decode(output_tensor[0], skip_special_tokens=True)\n",
        "    return output_text\n",
        "\n",
        "\n",
        "\n"
      ],
      "metadata": {
        "id": "nhNNsu5K0oC-"
      },
      "execution_count": 11,
      "outputs": []
    },
    {
      "cell_type": "code",
      "source": [
        "text = \"House Targaryen was a noble family of Valyrian descent who escaped the Doom. They lived for centuries on the island of Dragonstone until Aegon the Conqueror and his sisters rode their dragons to conquer the Seven Kingdoms.\"\n",
        "\n",
        "question = generate_question(text)\n",
        "print(\"Question:\", question)\n",
        "\n",
        "answer = generate_answer(text, question)\n",
        "print(\"Answer:\", answer)\n"
      ],
      "metadata": {
        "colab": {
          "base_uri": "https://localhost:8080/"
        },
        "id": "yzg46avl1xef",
        "outputId": "4dd0e8b5-0963-4cd5-9a09-cab81ecf53d0"
      },
      "execution_count": 12,
      "outputs": [
        {
          "output_type": "stream",
          "name": "stdout",
          "text": [
            "Question: generate_question: House Targaryen noble family Valyrian descent escaped Doom. lived centuries island Dragonstone Aegon Conqueror sisters rode dragon conquer Seven Kingdoms.\n",
            "Answer: House Targaryen noble family Valyrian descent escaped Doom\n"
          ]
        }
      ]
    },
    {
      "cell_type": "code",
      "source": [
        "text = \"House Targaryen was a noble family of Valyrian descent who escaped the Doom. They lived for centuries on the island of Dragonstone until Aegon the Conqueror and his sisters rode their dragons to conquer the Seven Kingdoms.\"\n",
        "\n",
        "question, answer = generate_qa(text)\n",
        "print(\"Question:\", question)\n",
        "print(\"Answer:\", answer)\n"
      ],
      "metadata": {
        "colab": {
          "base_uri": "https://localhost:8080/"
        },
        "id": "SqMaxZFG0rfz",
        "outputId": "6de44e0e-a2a0-4135-c483-011f6d6131c4"
      },
      "execution_count": 10,
      "outputs": [
        {
          "output_type": "stream",
          "name": "stdout",
          "text": [
            "Question: Failed to generate a question and answer.\n",
            "Answer: \n"
          ]
        }
      ]
    },
    {
      "cell_type": "code",
      "source": [
        "tokenizer = T5Tokenizer.from_pretrained('t5-base')\n",
        "model = T5ForConditionalGeneration.from_pretrained('t5-base')\n"
      ],
      "metadata": {
        "colab": {
          "base_uri": "https://localhost:8080/",
          "height": 208,
          "referenced_widgets": [
            "a465be6a40144f66a5bc6d0126f7ea58",
            "b75595c91f76489fa430fff11fa498a8",
            "a03372f5263e4c0ca0be87e904e4f403",
            "a46e4d96e4e544ccaabdbac71d6abbcf",
            "15908a23daf2416ead779e3bb2d1c7f3",
            "9e10856e2abc4411a593d1d90878ba10",
            "93714ee8d9404c7b8e1d74c4f5501d8e",
            "32b3712b933b446ab7a53b8a00c9249e",
            "49dcb7d212734172b5cca72ff021a95d",
            "4e1b7218c5e14209893b36778ca8752b",
            "88a64cec5e2a4a4eaff661651d8f94b3",
            "e102c7b75e424ec38ff093d525a31372",
            "2e9077caa31e40ba8253abaa0443b42a",
            "845d6e215dba4a50afb85ab276b0f850",
            "d08b42222c674710bdb472c2243ea714",
            "403bd89276d5495ca0b0ff1e25bcce1b",
            "225e882c0d684913a77b985bb3129f79",
            "e6d2b64cee9142288440f94fe0f77226",
            "f1b31675f18f4c349f96aed162821608",
            "badf8b23e9d14ecc8ffe840b4b82bbd3",
            "7832aaed3aaa47248c0fe1cd8d867f59",
            "004654813ba342ca8c206ab046a0b6a3"
          ]
        },
        "id": "Ni90RXmz2J1C",
        "outputId": "eb2117d9-15ec-4470-d3da-478dd5cc8b66"
      },
      "execution_count": 13,
      "outputs": [
        {
          "output_type": "stream",
          "name": "stderr",
          "text": [
            "/usr/local/lib/python3.9/dist-packages/transformers/models/t5/tokenization_t5.py:163: FutureWarning: This tokenizer was incorrectly instantiated with a model max length of 512 which will be corrected in Transformers v5.\n",
            "For now, this behavior is kept to avoid breaking backwards compatibility when padding/encoding with `truncation is True`.\n",
            "- Be aware that you SHOULD NOT rely on t5-base automatically truncating your input to 512 when padding/encoding.\n",
            "- If you want to encode/pad to sequences longer than 512 you can either instantiate this tokenizer with `model_max_length` or pass `max_length` when encoding/padding.\n",
            "- To avoid this warning, please instantiate this tokenizer with `model_max_length` set to your preferred value.\n",
            "  warnings.warn(\n"
          ]
        },
        {
          "output_type": "display_data",
          "data": {
            "text/plain": [
              "Downloading pytorch_model.bin:   0%|          | 0.00/892M [00:00<?, ?B/s]"
            ],
            "application/vnd.jupyter.widget-view+json": {
              "version_major": 2,
              "version_minor": 0,
              "model_id": "a465be6a40144f66a5bc6d0126f7ea58"
            }
          },
          "metadata": {}
        },
        {
          "output_type": "display_data",
          "data": {
            "text/plain": [
              "Downloading (…)neration_config.json:   0%|          | 0.00/147 [00:00<?, ?B/s]"
            ],
            "application/vnd.jupyter.widget-view+json": {
              "version_major": 2,
              "version_minor": 0,
              "model_id": "e102c7b75e424ec38ff093d525a31372"
            }
          },
          "metadata": {}
        }
      ]
    },
    {
      "cell_type": "code",
      "source": [
        "def generate_question(text):\n",
        "    input_text = \"generate_question: \" + text\n",
        "    input_tensor = tokenizer.encode(input_text, return_tensors='pt')\n",
        "    output_tensor = model.generate(input_tensor, max_length=100, num_return_sequences=1)\n",
        "    output_text = tokenizer.decode(output_tensor[0], skip_special_tokens=True)\n",
        "    return output_text\n",
        "\n",
        "def generate_answer(text, question):\n",
        "    input_text = f\"generate_answer: context: {text} question: {question}\"\n",
        "    input_tensor = tokenizer.encode(input_text, return_tensors='pt')\n",
        "    output_tensor = model.generate(input_tensor, max_length=100, num_return_sequences=1)\n",
        "    output_text = tokenizer.decode(output_tensor[0], skip_special_tokens=True)\n",
        "    return output_text\n"
      ],
      "metadata": {
        "id": "RYk4nKt12LYQ"
      },
      "execution_count": 14,
      "outputs": []
    },
    {
      "cell_type": "code",
      "source": [
        "text = \"House Targaryen was a noble family of Valyrian descent who escaped the Doom. They lived for centuries on the island of Dragonstone until Aegon the Conqueror and his sisters rode their dragons to conquer the Seven Kingdoms.\"\n",
        "\n",
        "question = generate_question(text)\n",
        "print(\"Question:\", question)\n",
        "\n",
        "answer = generate_answer(text, question)\n",
        "print(\"Answer:\", answer)\n"
      ],
      "metadata": {
        "colab": {
          "base_uri": "https://localhost:8080/"
        },
        "id": "nAWAcSet2Rze",
        "outputId": "4fea15b4-3598-467e-d66a-01c05d882be8"
      },
      "execution_count": 15,
      "outputs": [
        {
          "output_type": "stream",
          "name": "stdout",
          "text": [
            "Question: True\n",
            "Answer: True\n"
          ]
        }
      ]
    },
    {
      "cell_type": "code",
      "source": [
        "!pip install openai\n"
      ],
      "metadata": {
        "id": "160MJwaS2fRP"
      },
      "execution_count": null,
      "outputs": []
    },
    {
      "cell_type": "code",
      "source": [
        "import openai\n",
        "\n",
        "api_key = \"api key\"\n",
        "openai.api_key = api_key\n"
      ],
      "metadata": {
        "id": "wSXdgQvj2mY9"
      },
      "execution_count": 45,
      "outputs": []
    },
    {
      "cell_type": "code",
      "source": [
        "def generate_multiple_qa_gpt3(text, num_qa_pairs=3, model=\"text-davinci-002\"):\n",
        "    prompt = f\"{text}\\n\\nGenerate {num_qa_pairs} question-answer pairs:\\n\"\n",
        "    for i in range(1, num_qa_pairs + 1):\n",
        "        prompt += f\"Q{i}: {{Question {i}}}\\nA{i}: {{Answer {i}}}\\n\"\n",
        "    \n",
        "    response = openai.Completion.create(\n",
        "        engine=model,\n",
        "        prompt=prompt,\n",
        "        max_tokens=200,\n",
        "        n=1,\n",
        "        stop=None,\n",
        "        temperature=0.5,\n",
        "    )\n",
        "\n",
        "    generated_text = response.choices[0].text.strip()\n",
        "    return generated_text\n",
        "\n"
      ],
      "metadata": {
        "id": "XuVzTqwk2usy"
      },
      "execution_count": 46,
      "outputs": []
    },
    {
      "cell_type": "code",
      "source": [
        "!pip install pandas\n"
      ],
      "metadata": {
        "colab": {
          "base_uri": "https://localhost:8080/"
        },
        "id": "SbJZBrcC4g8w",
        "outputId": "c39d8ae9-315c-4cba-a9e9-fcc713ff9caa"
      },
      "execution_count": 47,
      "outputs": [
        {
          "output_type": "stream",
          "name": "stdout",
          "text": [
            "Looking in indexes: https://pypi.org/simple, https://us-python.pkg.dev/colab-wheels/public/simple/\n",
            "Requirement already satisfied: pandas in /usr/local/lib/python3.9/dist-packages (1.4.4)\n",
            "Requirement already satisfied: python-dateutil>=2.8.1 in /usr/local/lib/python3.9/dist-packages (from pandas) (2.8.2)\n",
            "Requirement already satisfied: numpy>=1.18.5 in /usr/local/lib/python3.9/dist-packages (from pandas) (1.22.4)\n",
            "Requirement already satisfied: pytz>=2020.1 in /usr/local/lib/python3.9/dist-packages (from pandas) (2022.7.1)\n",
            "Requirement already satisfied: six>=1.5 in /usr/local/lib/python3.9/dist-packages (from python-dateutil>=2.8.1->pandas) (1.16.0)\n"
          ]
        }
      ]
    },
    {
      "cell_type": "code",
      "source": [
        "import pandas as pd\n"
      ],
      "metadata": {
        "id": "qiTfvX6t4qhz"
      },
      "execution_count": 48,
      "outputs": []
    },
    {
      "cell_type": "code",
      "source": [
        "# Create an empty DataFrame to store the results\n",
        "result_columns = [\"text\", \"generated_qa_pairs\"]\n",
        "result_data = pd.DataFrame(columns=result_columns)\n"
      ],
      "metadata": {
        "id": "H5QWwBG5961f"
      },
      "execution_count": 49,
      "outputs": []
    },
    {
      "cell_type": "code",
      "source": [
        "# Read the CSV file\n",
        "csv_file_path = \"paragraphs (1).csv\"\n",
        "data = pd.read_csv(csv_file_path)\n",
        "\n",
        "# Iterate through the rows and process each text\n",
        "for index, row in data.iterrows():\n",
        "    text = row['Paragraph']\n",
        "    \n",
        "    # Call the generate_multiple_qa_gpt3 function or any other function you want to use with the text\n",
        "    num_qa_pairs = 3\n",
        "    generated_qa_pairs = generate_multiple_qa_gpt3(text, num_qa_pairs)\n",
        "    #print(f\"Text {index + 1}:\")\n",
        "    #print(text)\n",
        "    #print(\"Generated QA pairs:\")\n",
        "    #print(generated_qa_pairs)\n",
        "    #print(\"\\n\")\n",
        "    \n",
        "    # Append the result to the result_data DataFrame\n",
        "    result_data = result_data.append({\"text\": text, \"generated_qa_pairs\": generated_qa_pairs}, ignore_index=True)\n"
      ],
      "metadata": {
        "id": "q1UYSsjh4rqV"
      },
      "execution_count": null,
      "outputs": []
    },
    {
      "cell_type": "code",
      "source": [
        "# Save the result_data DataFrame to a new CSV file\n",
        "output_csv_file_path = \"output_csv_file_path_here.csv\"\n",
        "result_data.to_csv(output_csv_file_path, index=False)\n"
      ],
      "metadata": {
        "id": "7rznDGNh-TE2"
      },
      "execution_count": 51,
      "outputs": []
    },
    {
      "cell_type": "code",
      "source": [
        "# Print the first few generated QA pairs from the result_data DataFrame\n",
        "for index, row in result_data.head().iterrows():\n",
        "    print(f\"Generated QA pairs for text {index + 1}:\")\n",
        "    print(row['generated_qa_pairs'])\n",
        "    print(\"\\n\")\n"
      ],
      "metadata": {
        "id": "h6-LzMM1rkUM"
      },
      "execution_count": 59,
      "outputs": []
    },
    {
      "cell_type": "code",
      "source": [
        "# Read the CSV file containing the generated question-answer pairs\n",
        "generated_qa_pairs_file_path = \"OpenAI_Generated_Q&A's.csv\"\n",
        "result_data = pd.read_csv(generated_qa_pairs_file_path)\n",
        "\n",
        "# Create an empty DataFrame to store the results\n",
        "qa_data_columns = [\"text\", \"question\", \"answer\"]\n",
        "qa_data = pd.DataFrame(columns=qa_data_columns)\n",
        "\n",
        "# Iterate through the rows and process each text\n",
        "for index, row in result_data.iterrows():\n",
        "    text = row['text']\n",
        "    generated_qa_pairs = row['generated_qa_pairs']\n",
        "\n",
        "    # Extract individual questions and answers\n",
        "    qa_pairs = re.findall(r'Q\\d+: (.*?)\\nA\\d+: (.*?)(?=$|\\nQ)', generated_qa_pairs, re.MULTILINE | re.DOTALL)\n",
        "\n",
        "    # Append each question-answer pair to the qa_data DataFrame\n",
        "    for question, answer in qa_pairs:\n",
        "        qa_data = qa_data.append({\"text\": text, \"question\": question, \"answer\": answer}, ignore_index=True)\n",
        "\n",
        "# Save the qa_data DataFrame to a new CSV file\n",
        "output_csv_file_path = \"qa_output.csv\"\n",
        "qa_data.to_csv(output_csv_file_path, index=False)\n"
      ],
      "metadata": {
        "id": "tG-qp4ydzWkz"
      },
      "execution_count": null,
      "outputs": []
    }
  ]
}
